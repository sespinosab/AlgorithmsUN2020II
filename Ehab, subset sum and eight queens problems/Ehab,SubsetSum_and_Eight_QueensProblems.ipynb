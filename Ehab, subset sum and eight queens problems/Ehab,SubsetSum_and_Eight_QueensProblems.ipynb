{
  "nbformat": 4,
  "nbformat_minor": 0,
  "metadata": {
    "colab": {
      "name": "Ehab,SubsetSum_and_Eight_QueensProblems.ipynb",
      "provenance": [],
      "collapsed_sections": []
    },
    "kernelspec": {
      "name": "python3",
      "display_name": "Python 3"
    }
  },
  "cells": [
    {
      "cell_type": "markdown",
      "metadata": {
        "id": "s-iD5YE9uX0q"
      },
      "source": [
        "# <center> LAB 11 A – Ehab, subset sum and eight queens problems – groups </center>\r\n",
        "<center> <br> Sergio Camilo Espinosa Botero \r\n"
      ]
    },
    {
      "cell_type": "markdown",
      "metadata": {
        "id": "b8u2NyYevAPp"
      },
      "source": [
        "# Punto 1\r\n",
        "\r\n",
        "Solve Problem <a href=\"https://vjudge.net/problem/CodeForces-1088A\">A &#8211; Ehab and another construction problem</a>&nbsp; from  <a href=\"https://vjudge.net/contest/376819\">Complete Search</a> in Vjudge and in Colab <ul><li>Using brute force, </li><li> Using a better search and </li><li>Using the two one step forms </li>"
      ]
    },
    {
      "cell_type": "markdown",
      "metadata": {
        "id": "05kGkkCdNpKM"
      },
      "source": [
        "The ehab and another construction problem is defined as: \r\n",
        "Given an integer x, find 2 integers a and b such that:\r\n",
        "\r\n",
        "-1≤a,b≤x\r\n",
        "\r\n",
        "-b divides a (a is divisible by b).\r\n",
        "\r\n",
        "-a⋅b>x.\r\n",
        "\r\n",
        "-ab<x."
      ]
    },
    {
      "cell_type": "markdown",
      "metadata": {
        "id": "eliARMykBK4t"
      },
      "source": [
        "### Using brute force"
      ]
    },
    {
      "cell_type": "code",
      "metadata": {
        "id": "uQUklH26uMut",
        "colab": {
          "base_uri": "https://localhost:8080/"
        },
        "outputId": "87aec6d2-27b7-41d0-c09d-e91aa9f2b6a2"
      },
      "source": [
        "def Ehab_BruteForce(x): \r\n",
        "  found = False\r\n",
        "  \r\n",
        "  for a in range(1,x+1):\r\n",
        "    for b in range(1,x+1):\r\n",
        "        if (a % b == 0):\r\n",
        "          if (a * b > x):\r\n",
        "            if (a / b < x):\r\n",
        "              found = True\r\n",
        "              print(a,b)\r\n",
        "              break\r\n",
        "    if (found):\r\n",
        "      break\r\n",
        "  if (not found):  \r\n",
        "    print(-1)\r\n",
        "  \r\n",
        "x = int(input())\r\n",
        "Ehab_BruteForce(x)"
      ],
      "execution_count": null,
      "outputs": [
        {
          "output_type": "stream",
          "text": [
            "10\n",
            "4 4\n"
          ],
          "name": "stdout"
        }
      ]
    },
    {
      "cell_type": "markdown",
      "metadata": {
        "id": "EyS-mf1DHQkH"
      },
      "source": [
        "Using the two one step forms"
      ]
    },
    {
      "cell_type": "code",
      "metadata": {
        "colab": {
          "base_uri": "https://localhost:8080/"
        },
        "id": "DVhyiaOgBXBc",
        "outputId": "aea02980-c194-4d9b-9f09-1f0159ed3a21"
      },
      "source": [
        "def Ehab_TwoOneStep(x):\r\n",
        "  if (x == 1):\r\n",
        "    print(-1)\r\n",
        "  elif ((int(x/2) +1) % 2 == 0):\r\n",
        "    print(int(x/2)+1, 2)\r\n",
        "  else:\r\n",
        "    print(int(x/2)+2,2)\r\n",
        "\r\n",
        "\r\n",
        "x = int(input())\r\n",
        "Ehab_TwoOneStep(x)"
      ],
      "execution_count": null,
      "outputs": [
        {
          "output_type": "stream",
          "text": [
            "10\n",
            "6 2\n"
          ],
          "name": "stdout"
        }
      ]
    },
    {
      "cell_type": "markdown",
      "metadata": {
        "id": "YvdDcO7MvxMr"
      },
      "source": [
        "# Punto 2\r\n",
        "\r\n",
        "Solve the Subset Sum Problem <a rel=\"noreferrer noopener\" href=\"https://github.com/saltycrane/subset-sum/tree/master/subsetsum\" target=\"_blank\">github</a><ul><li>Using brute force <a href=\"https://github.com/saltycrane/subset-sum/blob/master/subsetsum/bruteforce.py\">bruteforce.py</a></li><li>For $n=10,20,30,50,100,1000$ and report when in Colab you run out of memory</li>"
      ]
    },
    {
      "cell_type": "markdown",
      "metadata": {
        "id": "XdhyvxWTHfng"
      },
      "source": [
        "The Subset Sum problem is an important decision problem in computer science. The problem is defined like: Given a multiset of n elements, is there any non-empy subset which the sum of its elements is zero? For example, given the set {$-7,-3,-2,9000,5,$}, the answer is yes because the subset {$-3,-2,5$} sums to zero."
      ]
    },
    {
      "cell_type": "code",
      "metadata": {
        "id": "gfMINGn2v3Tl"
      },
      "source": [
        "import itertools\r\n",
        "import numpy as np\r\n",
        "\r\n",
        "def bruteforce(x_list, target):\r\n",
        "    possiblities = []\r\n",
        "    for x in powerset(x_list):\r\n",
        "        possiblities.append((x, np.sum(x)))\r\n",
        "\r\n",
        "    x_list, actual_value = closest(possiblities, target)\r\n",
        "    print(f\"Num of Posibilities: {len(possiblities)}\")\r\n",
        "    \r\n",
        "    return (actual_value, x_list)"
      ],
      "execution_count": null,
      "outputs": []
    },
    {
      "cell_type": "code",
      "metadata": {
        "id": "ELh0yEgSBb9t"
      },
      "source": [
        "def powerset(iterable):\r\n",
        "    '''powerset([1,2,3]) --> () (1,) (2,) (3,) (1,2) (1,3) (2,3) (1,2,3)\r\n",
        "    http://docs.python.org/library/itertools.html#recipes\r\n",
        "    '''\r\n",
        "    s = list(iterable)\r\n",
        "    return itertools.chain.from_iterable(itertools.combinations(s, r) for r in range(len(s) + 1))"
      ],
      "execution_count": null,
      "outputs": []
    },
    {
      "cell_type": "code",
      "metadata": {
        "id": "E3ml___rBeC4"
      },
      "source": [
        "def closest(possiblities, target):\r\n",
        "    '''Modified from http://stackoverflow.com/questions/445782/finding-closest-match-in-collection-of-numbers/445824#445824'''\r\n",
        "    return min((abs(target - total), (o_list, total))\r\n",
        "               for o_list, total in possiblities)[1]"
      ],
      "execution_count": null,
      "outputs": []
    },
    {
      "cell_type": "code",
      "metadata": {
        "id": "n62ApVyKBguZ"
      },
      "source": [
        "from time import time\r\n",
        "from random import randint\r\n",
        "\r\n",
        "def getTime(n):\r\n",
        "  time0 = time()\r\n",
        "  arr = [randint(1,1000) for i in range(n)]\r\n",
        "  #print(arr)\r\n",
        "  target = randint(1,sum(arr))\r\n",
        "  print(f\"Target: {target}\")\r\n",
        "  bf = bruteforce(arr,target)\r\n",
        "  time1 = time()\r\n",
        "  timeTotal = time1-time0\r\n",
        "  print(\"Brute force:\",bf,timeTotal)\r\n",
        "  #return timeTotal"
      ],
      "execution_count": null,
      "outputs": []
    },
    {
      "cell_type": "markdown",
      "metadata": {
        "id": "qdfKz6BLI2ix"
      },
      "source": [
        "Now we will run the algorithm for $n$=10,20,30,50,100,1000, but we will stop when the Colab runs out of memory. "
      ]
    },
    {
      "cell_type": "code",
      "metadata": {
        "colab": {
          "base_uri": "https://localhost:8080/"
        },
        "id": "NkvskaBmBqr-",
        "outputId": "83958610-e4b8-4afb-c8e2-a4314c041981"
      },
      "source": [
        "getTime(10)"
      ],
      "execution_count": null,
      "outputs": [
        {
          "output_type": "stream",
          "text": [
            "Target: 4279\n",
            "Num of Posibilities: 1024\n",
            "Brute force: (4281, (97, 817, 47, 552, 617, 723, 868, 560)) 0.017605304718017578\n"
          ],
          "name": "stdout"
        }
      ]
    },
    {
      "cell_type": "code",
      "metadata": {
        "colab": {
          "base_uri": "https://localhost:8080/"
        },
        "id": "ewyOl7rNBuKY",
        "outputId": "455a47ad-9e6a-48b9-bd52-705d856ccfab"
      },
      "source": [
        "getTime(15)"
      ],
      "execution_count": null,
      "outputs": [
        {
          "output_type": "stream",
          "text": [
            "Target: 4901\n",
            "Num of Posibilities: 32768\n",
            "Brute force: (4901, (48, 762, 254, 655, 886, 870, 256, 45, 750, 375)) 0.29177141189575195\n"
          ],
          "name": "stdout"
        }
      ]
    },
    {
      "cell_type": "code",
      "metadata": {
        "colab": {
          "base_uri": "https://localhost:8080/"
        },
        "id": "ljcwx6lqBwV_",
        "outputId": "ca830e51-f9d7-47da-ec69-b716bccd5976"
      },
      "source": [
        "getTime(20)"
      ],
      "execution_count": null,
      "outputs": [
        {
          "output_type": "stream",
          "text": [
            "Target: 4223\n",
            "Num of Posibilities: 1048576\n",
            "Brute force: (4223, (47, 83, 344, 344, 539, 934, 615, 241, 765, 311)) 8.249829530715942\n"
          ],
          "name": "stdout"
        }
      ]
    },
    {
      "cell_type": "code",
      "metadata": {
        "colab": {
          "base_uri": "https://localhost:8080/"
        },
        "id": "1RkDKgTMByQa",
        "outputId": "93eed56a-8154-44ad-927b-10753784209e"
      },
      "source": [
        "getTime(25)"
      ],
      "execution_count": null,
      "outputs": [
        {
          "output_type": "stream",
          "text": [
            "Target: 12825\n",
            "Num of Posibilities: 33554432\n",
            "Brute force: (12825, (374, 615, 299, 241, 930, 215, 989, 66, 956, 332, 922, 165, 922, 640, 863, 831, 506, 966, 944, 186, 863)) 303.9432592391968\n"
          ],
          "name": "stdout"
        }
      ]
    },
    {
      "cell_type": "code",
      "metadata": {
        "colab": {
          "base_uri": "https://localhost:8080/"
        },
        "id": "JeH7YbmtFbkF",
        "outputId": "618551b5-6811-4839-c364-6c3f77a8db0b"
      },
      "source": [
        "getTime(26)"
      ],
      "execution_count": null,
      "outputs": [
        {
          "output_type": "stream",
          "text": [
            "Target: 4896\n"
          ],
          "name": "stdout"
        }
      ]
    },
    {
      "cell_type": "markdown",
      "metadata": {
        "id": "UuXVU_BX9SHA"
      },
      "source": [
        "From $n$=26 the algorithm exaustes the Colab memory, so it is not possible to run the algorithm with bigger n's.\r\n",
        "\r\n",
        "We can conclude that a Brute Force solution for the Subset Sum Problem is not efficient, and that generate and evaluate all possibilites consumes way too much memory and time. "
      ]
    },
    {
      "cell_type": "markdown",
      "metadata": {
        "id": "ukVBKVZyv3wb"
      },
      "source": [
        "# Punto 3\r\n",
        "\r\n",
        "Solve the eight queens problem in colab<ul><li>Algorithms in C++ Complete Search, Greedy, Divide and Conquer, Dynamic Programming <a rel=\"noreferrer noopener\" href=\"https://towardsdatascience.com/algorithms-in-c-62b607a6131d#:~:text=Complete%20search%20(aka%20b%20r,lead%20to%20the%20required%20solution.\" target=\"_blank\">towardsdatascience</a></li><li>Eight queens puzzle &#8211; sample program <a rel=\"noreferrer noopener\" href=\"https://en.wikipedia.org/wiki/Eight_queens_puzzle#Sample_program\" target=\"_blank\">wikipedia</a></li><li>N Queen Problem | Backtracking-3 <a rel=\"noreferrer noopener\" href=\"https://www.geeksforgeeks.org/n-queen-problem-backtracking-3/\" target=\"_blank\">https://www.geeksforgeeks.org/n-queen-problem-backtracking-3/</a></li>"
      ]
    },
    {
      "cell_type": "markdown",
      "metadata": {
        "id": "HAPS6Km0KYha"
      },
      "source": [
        "The eight queens problem consists of placing eight different chess queens in a normal 8x8 chess board without any of the queen threatening each other. The queen in chess is the most powerfull piece in the game, that is able to move any number of cells verticaly, horizantaly and diagonally until it finds a piece of the same color or captures an enemy piece. Chess composer Max Bezzel first published the eight queens puzzle in 1848, and Franz Nauck published the first results two years later. \r\n",
        "The problem of finding all solutions to the 8-queens problem can be quite computationally expensive, as there are 4,426,165,368 (64$C$8) possible arrangements of eight queens on an 8×8 board, but only 92 solutions, but one way to simplify the problem is to apply the rule that each queen must be positioned in a different column or row. \r\n"
      ]
    },
    {
      "cell_type": "code",
      "metadata": {
        "id": "sZVBBQy2wcaF",
        "colab": {
          "base_uri": "https://localhost:8080/"
        },
        "outputId": "d3ca2d15-7fd2-43dd-a321-eb9740d73796"
      },
      "source": [
        "row = [0]*8\r\n",
        "line_counter = 0\r\n",
        "# a y b corresponden a la posición de la casilla donde se va a colocar la primera dama. \r\n",
        "a = 2\r\n",
        "b = 4\r\n",
        "TC = 8\r\n",
        "\r\n",
        "def place(r,c):\r\n",
        "  for prev in range(c):\r\n",
        "    if (row[prev] == r or abs(row[prev] - r) == abs(prev - c)):\r\n",
        "      return False\r\n",
        "  return True\r\n",
        "\r\n",
        "def backtrack(c):\r\n",
        "  line = \"\"\r\n",
        "  if (c == 8 and row[b] == a):\r\n",
        "    #print(++line_counter,row[0]+1)\r\n",
        "    line += str(row[0]+1)\r\n",
        "    for j in range(1,8):\r\n",
        "      line += \" \" + str(row[j]+1)\r\n",
        "    print(line)\r\n",
        "  \r\n",
        "  for r in range(8):\r\n",
        "    if (place(r,c)):\r\n",
        "      row[c] = r\r\n",
        "      backtrack(c+1)\r\n",
        "\r\n",
        "print(\"    Columns\")\r\n",
        "print(\"1 2 3 4 5 6 7 8\")\r\n",
        "print(\"---------------\")\r\n",
        "backtrack(0)\r\n"
      ],
      "execution_count": null,
      "outputs": [
        {
          "output_type": "stream",
          "text": [
            "    Columns\n",
            "1 2 3 4 5 6 7 8\n",
            "---------------\n",
            "1 5 8 6 3 7 2 4\n",
            "2 4 6 8 3 1 7 5\n",
            "2 5 7 1 3 8 6 4\n",
            "2 8 6 1 3 5 7 4\n",
            "5 1 8 6 3 7 2 4\n",
            "5 2 4 7 3 8 6 1\n",
            "5 7 2 6 3 1 4 8\n",
            "5 7 2 6 3 1 8 4\n",
            "5 7 4 1 3 8 6 2\n",
            "5 8 4 1 3 6 2 7\n",
            "6 2 7 1 3 5 8 4\n",
            "6 4 7 1 3 5 2 8\n"
          ],
          "name": "stdout"
        }
      ]
    },
    {
      "cell_type": "markdown",
      "metadata": {
        "id": "Fcg7EwNrDhMM"
      },
      "source": [
        "The result shows us all the possibilites of placing a queen on the board without any of them threatening each other, depending on where the first queen is placed. Each column is shown, and the cell of the column in which each queen must be placed. "
      ]
    }
  ]
}